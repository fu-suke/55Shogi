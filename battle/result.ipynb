{
 "cells": [
  {
   "cell_type": "code",
   "execution_count": 1,
   "metadata": {},
   "outputs": [
    {
     "data": {
      "text/html": [
       "<div>\n",
       "<style scoped>\n",
       "    .dataframe tbody tr th:only-of-type {\n",
       "        vertical-align: middle;\n",
       "    }\n",
       "\n",
       "    .dataframe tbody tr th {\n",
       "        vertical-align: top;\n",
       "    }\n",
       "\n",
       "    .dataframe thead th {\n",
       "        text-align: right;\n",
       "    }\n",
       "</style>\n",
       "<table border=\"1\" class=\"dataframe\">\n",
       "  <thead>\n",
       "    <tr style=\"text-align: right;\">\n",
       "      <th></th>\n",
       "      <th>ab</th>\n",
       "      <th>hybrid</th>\n",
       "      <th>uct</th>\n",
       "    </tr>\n",
       "  </thead>\n",
       "  <tbody>\n",
       "    <tr>\n",
       "      <th>ab</th>\n",
       "      <td>NaN</td>\n",
       "      <td>0.511680</td>\n",
       "      <td>0.776573</td>\n",
       "    </tr>\n",
       "    <tr>\n",
       "      <th>hybrid</th>\n",
       "      <td>0.488320</td>\n",
       "      <td>NaN</td>\n",
       "      <td>0.775442</td>\n",
       "    </tr>\n",
       "    <tr>\n",
       "      <th>uct</th>\n",
       "      <td>0.223427</td>\n",
       "      <td>0.224558</td>\n",
       "      <td>NaN</td>\n",
       "    </tr>\n",
       "  </tbody>\n",
       "</table>\n",
       "</div>"
      ],
      "text/plain": [
       "              ab    hybrid       uct\n",
       "ab           NaN  0.511680  0.776573\n",
       "hybrid  0.488320       NaN  0.775442\n",
       "uct     0.223427  0.224558       NaN"
      ]
     },
     "execution_count": 1,
     "metadata": {},
     "output_type": "execute_result"
    }
   ],
   "source": [
    "\n",
    "\n",
    "import pandas as pd\n",
    "\n",
    "\n",
    "data = pd.read_csv(\"./battle_log.csv\")\n",
    "\n",
    "\n",
    "ai_types = ['ab', 'hybrid', 'uct']\n",
    "\n",
    "win_rates = pd.DataFrame(index=ai_types, columns=ai_types, dtype=float)\n",
    "\n",
    "# 各AIタイプ間の勝率を計算\n",
    "for ai1 in ai_types:\n",
    "    for ai2 in ai_types:\n",
    "        if ai1 != ai2:\n",
    "            ai1_vs_ai2_matches = data[((data['Player1'].str.contains(ai1)) & (data['Player2'].str.contains(ai2))) |\n",
    "                                      ((data['Player1'].str.contains(ai2)) & (data['Player2'].str.contains(ai1)))]\n",
    "            total_matches = len(ai1_vs_ai2_matches)\n",
    "\n",
    "            if total_matches > 0:\n",
    "                ai1_wins = len(ai1_vs_ai2_matches[((ai1_vs_ai2_matches['Player1'].str.contains(ai1)) & (ai1_vs_ai2_matches['Winner'] == 0)) |\n",
    "                                                  ((ai1_vs_ai2_matches['Player2'].str.contains(ai1)) & (ai1_vs_ai2_matches['Winner'] == 1))])\n",
    "                win_rates.loc[ai1, ai2] = ai1_wins / total_matches\n",
    "\n",
    "win_rates"
   ]
  }
 ],
 "metadata": {
  "kernelspec": {
   "display_name": "Python 3",
   "language": "python",
   "name": "python3"
  },
  "language_info": {
   "codemirror_mode": {
    "name": "ipython",
    "version": 3
   },
   "file_extension": ".py",
   "mimetype": "text/x-python",
   "name": "python",
   "nbconvert_exporter": "python",
   "pygments_lexer": "ipython3",
   "version": "3.10.4"
  }
 },
 "nbformat": 4,
 "nbformat_minor": 2
}
